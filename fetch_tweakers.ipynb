{
 "cells": [
  {
   "cell_type": "code",
   "execution_count": 8,
   "metadata": {
    "tags": []
   },
   "outputs": [
    {
     "name": "stdout",
     "output_type": "stream",
     "text": [
      "The autoreload extension is already loaded. To reload it, use:\n",
      "  %reload_ext autoreload\n"
     ]
    }
   ],
   "source": [
    "%load_ext autoreload\n",
    "%autoreload 2"
   ]
  },
  {
   "cell_type": "code",
   "execution_count": 9,
   "metadata": {
    "tags": []
   },
   "outputs": [],
   "source": [
    "import pytz\n",
    "import datetime\n",
    "import orchest\n",
    "\n",
    "from bs4 import BeautifulSoup\n",
    "import requests"
   ]
  },
  {
   "cell_type": "code",
   "execution_count": 10,
   "metadata": {
    "tags": []
   },
   "outputs": [],
   "source": [
    "def construct_url(page=1):\n",
    "    tweakers_url = \"https://gathering.tweakers.net/forum/find/poster/{poster}/messages?data%5Bpage%5D={page}\"\n",
    "    return tweakers_url.format(page=page, poster=orchest.get_step_param(\"poster_id\"))"
   ]
  },
  {
   "cell_type": "code",
   "execution_count": 11,
   "metadata": {
    "tags": []
   },
   "outputs": [],
   "source": [
    "tz = pytz.timezone('Europe/Amsterdam')"
   ]
  },
  {
   "cell_type": "code",
   "execution_count": 12,
   "metadata": {
    "tags": []
   },
   "outputs": [],
   "source": [
    "def fetch_comments_from_page(page=1):\n",
    "    comments = []\n",
    "    headers = {'User-Agent': 'Mozilla/5.0 (Macintosh; Intel Mac OS X 10_10_1) AppleWebKit/537.36 (KHTML, like Gecko) Chrome/39.0.2171.95 Safari/537.36'}\n",
    "    resp = requests.get(construct_url(page), headers=headers)\n",
    "    soup = BeautifulSoup(resp.content, features=\"html.parser\")\n",
    "\n",
    "    for comment in soup.select(\".message\"):\n",
    "        unix_timestamp = comment.select(\"a > span\")[0]['data-timestamp']\n",
    "        for bq in comment.select(\"blockquote\"):\n",
    "            bq.decompose()\n",
    "        timestamp = datetime.datetime.fromtimestamp(int(unix_timestamp), tz=tz).isoformat()\n",
    "        comment_text = comment.select(\".messagecontent\")[0].text\n",
    "        comment_link = comment.select(\".messageheader a\")[0]['href']\n",
    "        comments.append({\"content\": comment_text, \"date\": timestamp, \"permalink\": comment_link})\n",
    "    return comments"
   ]
  },
  {
   "cell_type": "code",
   "execution_count": 13,
   "metadata": {
    "tags": []
   },
   "outputs": [],
   "source": [
    "page_count = orchest.get_step_param(\"pages\")"
   ]
  },
  {
   "cell_type": "code",
   "execution_count": 14,
   "metadata": {
    "tags": []
   },
   "outputs": [
    {
     "name": "stdout",
     "output_type": "stream",
     "text": [
      "Fetching page 1\n",
      "Found 30 comments.\n",
      "Fetching page 2\n",
      "Found 0 comments.\n",
      "Found no new comments, stopping page traversal.\n"
     ]
    }
   ],
   "source": [
    "comments = []\n",
    "\n",
    "for page in range(page_count):\n",
    "    page = page + 1\n",
    "    print(\"Fetching page %d\" % page)\n",
    "    new_comments = fetch_comments_from_page(page)\n",
    "    print(\"Found %d comments.\" % len(new_comments))\n",
    "    \n",
    "    if len(new_comments) == 0:\n",
    "        print(\"Found no new comments, stopping page traversal.\")\n",
    "        break\n",
    "    comments += new_comments"
   ]
  },
  {
   "cell_type": "code",
   "execution_count": 15,
   "metadata": {
    "tags": []
   },
   "outputs": [
    {
     "data": {
      "text/plain": [
       "'Fetched 30 comments'"
      ]
     },
     "execution_count": 15,
     "metadata": {},
     "output_type": "execute_result"
    }
   ],
   "source": [
    "f\"Fetched {len(comments)} comments\""
   ]
  },
  {
   "cell_type": "code",
   "execution_count": 16,
   "metadata": {
    "tags": []
   },
   "outputs": [
    {
     "data": {
      "text/plain": [
       "[{'content': 'Ik zou persoonlijk ook een 3700x combineren met een 2080 Ti. Dus wat @ECP0WERS voorstelt.\\n\\r\\nMooi budget! Veel plezier met de build ',\n",
       "  'date': '2019-09-23T03:33:46+02:00',\n",
       "  'permalink': 'https://gathering.tweakers.net/forum/list_message/60087504#60087504'},\n",
       " {'content': \"Leuk systeem heb je al samengesteld.\\n\\r\\nVoor deep learning is denk ik 16GB ram wellicht wat aan de lage kant. Je zult merken dat voor grote datasets het in memory kunnen laden van je data het trainproces enorm kan versnellen.\\n\\r\\nOok heeft de 2070 'maar' 8GB VRAM. Als je meerdere of grotere modellen wil instantiëren kun je hier tegen limitaties aanlopen. Dan is misschien de 2080 Ti beter (natuurlijk tegen een forse meerprijs).\\n\\r\\nVerder had ik nog gekeken naar je moederbord. Met 2700X krijg je 24 PCI lanes en zal je met dual GPU dus niet op x16/x16 kunnen draaien. Al zag ik in een analyse van Puget dat dat geen ramp hoeft te zijn voor performance. https://www.pugetsystems....or-Machine-Learning-1167/\\n\\r\\nOok is 550 watt wat aan de krappe kant voor een SLI setup. \\n\\r\\nDat (SLI) laat de 2070 overigens niet toe (als je dit moet geloven https://hothardware.com/n...upport-nvlink-sli-but-why ). Dat kan gevolgen hebben voor hoe de GPUs samen gebruikt kan worden (zonder SLI kun je wel 2070 parallel gebruiken - zonder synchronisatie).\",\n",
       "  'date': '2019-05-28T00:04:37+02:00',\n",
       "  'permalink': 'https://gathering.tweakers.net/forum/list_message/58980068#58980068'},\n",
       " {'content': \"reviews: World of Warcraft: Battle for Azeroth - Het is weer 'Horde versus Al...\\n\\r\\nClassis servers -> Classic servers\",\n",
       "  'date': '2017-11-07T20:40:40+01:00',\n",
       "  'permalink': 'https://gathering.tweakers.net/forum/list_message/53168721#53168721'}]"
      ]
     },
     "execution_count": 16,
     "metadata": {},
     "output_type": "execute_result"
    }
   ],
   "source": [
    "comments[0:3]"
   ]
  },
  {
   "cell_type": "code",
   "execution_count": 17,
   "metadata": {
    "tags": []
   },
   "outputs": [],
   "source": [
    "orchest.output(comments, name=\"comments\")"
   ]
  }
 ],
 "metadata": {
  "kernelspec": {
   "display_name": "Python 3",
   "language": "python",
   "name": "orchest-kernel-50d65f8e-003b-4528-a838-7178c22ba577"
  },
  "language_info": {
   "codemirror_mode": {
    "name": "ipython",
    "version": 3
   },
   "file_extension": ".py",
   "mimetype": "text/x-python",
   "name": "python",
   "nbconvert_exporter": "python",
   "pygments_lexer": "ipython3",
   "version": "3.7.6"
  }
 },
 "nbformat": 4,
 "nbformat_minor": 4
}
