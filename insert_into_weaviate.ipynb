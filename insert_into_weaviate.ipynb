{
 "cells": [
  {
   "cell_type": "code",
   "execution_count": 1,
   "metadata": {
    "execution": {
     "iopub.execute_input": "2022-02-24T14:12:10.353018Z",
     "iopub.status.busy": "2022-02-24T14:12:10.352792Z",
     "iopub.status.idle": "2022-02-24T14:12:10.371295Z",
     "shell.execute_reply": "2022-02-24T14:12:10.370593Z"
    },
    "tags": []
   },
   "outputs": [],
   "source": [
    "%load_ext autoreload\n",
    "%autoreload 2"
   ]
  },
  {
   "cell_type": "code",
   "execution_count": 2,
   "metadata": {
    "execution": {
     "iopub.execute_input": "2022-02-24T14:12:10.384255Z",
     "iopub.status.busy": "2022-02-24T14:12:10.383598Z",
     "iopub.status.idle": "2022-02-24T14:12:10.667996Z",
     "shell.execute_reply": "2022-02-24T14:12:10.667331Z"
    },
    "tags": []
   },
   "outputs": [],
   "source": [
    "import weaviate\n",
    "import orchest"
   ]
  },
  {
   "cell_type": "code",
   "execution_count": 3,
   "metadata": {
    "execution": {
     "iopub.execute_input": "2022-02-24T14:12:10.682174Z",
     "iopub.status.busy": "2022-02-24T14:12:10.681428Z",
     "iopub.status.idle": "2022-02-24T14:12:10.696574Z",
     "shell.execute_reply": "2022-02-24T14:12:10.696003Z"
    },
    "tags": []
   },
   "outputs": [],
   "source": [
    "from utils import get_weaviate_client, define_schema"
   ]
  },
  {
   "cell_type": "code",
   "execution_count": 4,
   "metadata": {
    "execution": {
     "iopub.execute_input": "2022-02-24T14:12:10.708955Z",
     "iopub.status.busy": "2022-02-24T14:12:10.708696Z",
     "iopub.status.idle": "2022-02-24T14:12:10.741102Z",
     "shell.execute_reply": "2022-02-24T14:12:10.740337Z"
    },
    "tags": []
   },
   "outputs": [
    {
     "data": {
      "text/plain": [
       "<weaviate.client.Client at 0x7ff2783488d0>"
      ]
     },
     "execution_count": 4,
     "metadata": {},
     "output_type": "execute_result"
    }
   ],
   "source": [
    "client = get_weaviate_client(); client"
   ]
  },
  {
   "cell_type": "code",
   "execution_count": 5,
   "metadata": {
    "execution": {
     "iopub.execute_input": "2022-02-24T14:12:10.756140Z",
     "iopub.status.busy": "2022-02-24T14:12:10.755498Z",
     "iopub.status.idle": "2022-02-24T14:12:10.838066Z",
     "shell.execute_reply": "2022-02-24T14:12:10.837358Z"
    },
    "tags": []
   },
   "outputs": [],
   "source": [
    "define_schema()"
   ]
  },
  {
   "cell_type": "code",
   "execution_count": 6,
   "metadata": {
    "execution": {
     "iopub.execute_input": "2022-02-24T14:12:10.851316Z",
     "iopub.status.busy": "2022-02-24T14:12:10.850759Z",
     "iopub.status.idle": "2022-02-24T14:12:10.865294Z",
     "shell.execute_reply": "2022-02-24T14:12:10.864636Z"
    },
    "tags": []
   },
   "outputs": [],
   "source": [
    "def delete_all_objects(client):\n",
    "    while True:\n",
    "        print(\".\", end=\"\")\n",
    "        objects = client.data_object.get()['objects']\n",
    "        if len(objects) == 0:\n",
    "            break\n",
    "        else:\n",
    "            for i in objects:\n",
    "                client.data_object.delete(i['id'])"
   ]
  },
  {
   "cell_type": "code",
   "execution_count": 7,
   "metadata": {
    "execution": {
     "iopub.execute_input": "2022-02-24T14:12:10.883717Z",
     "iopub.status.busy": "2022-02-24T14:12:10.883038Z",
     "iopub.status.idle": "2022-02-24T14:12:10.906632Z",
     "shell.execute_reply": "2022-02-24T14:12:10.906036Z"
    },
    "tags": []
   },
   "outputs": [
    {
     "name": "stdout",
     "output_type": "stream",
     "text": [
      "."
     ]
    }
   ],
   "source": [
    "delete_all_objects(client)"
   ]
  },
  {
   "cell_type": "code",
   "execution_count": 8,
   "metadata": {
    "execution": {
     "iopub.execute_input": "2022-02-24T14:12:10.921398Z",
     "iopub.status.busy": "2022-02-24T14:12:10.920878Z",
     "iopub.status.idle": "2022-02-24T14:12:10.936237Z",
     "shell.execute_reply": "2022-02-24T14:12:10.935509Z"
    },
    "tags": []
   },
   "outputs": [],
   "source": [
    "comments = orchest.get_inputs()[\"comments\"]"
   ]
  },
  {
   "cell_type": "code",
   "execution_count": 9,
   "metadata": {
    "execution": {
     "iopub.execute_input": "2022-02-24T14:12:10.949637Z",
     "iopub.status.busy": "2022-02-24T14:12:10.948018Z",
     "iopub.status.idle": "2022-02-24T14:12:10.965877Z",
     "shell.execute_reply": "2022-02-24T14:12:10.965194Z"
    },
    "tags": []
   },
   "outputs": [
    {
     "data": {
      "text/plain": [
       "'Inserting 30 comments'"
      ]
     },
     "execution_count": 9,
     "metadata": {},
     "output_type": "execute_result"
    }
   ],
   "source": [
    "f\"Inserting {len(comments)} comments\""
   ]
  },
  {
   "cell_type": "code",
   "execution_count": 10,
   "metadata": {
    "execution": {
     "iopub.execute_input": "2022-02-24T14:12:10.978000Z",
     "iopub.status.busy": "2022-02-24T14:12:10.977488Z",
     "iopub.status.idle": "2022-02-24T14:12:11.074161Z",
     "shell.execute_reply": "2022-02-24T14:12:11.073395Z"
    },
    "tags": []
   },
   "outputs": [],
   "source": [
    "with client.batch as batch:\n",
    "    for comment in comments:\n",
    "        batch.add_data_object(comment, 'Comment')"
   ]
  }
 ],
 "metadata": {
  "kernelspec": {
   "display_name": "Python 3",
   "language": "python",
   "name": "orchest-kernel-50d65f8e-003b-4528-a838-7178c22ba577"
  },
  "language_info": {
   "codemirror_mode": {
    "name": "ipython",
    "version": 3
   },
   "file_extension": ".py",
   "mimetype": "text/x-python",
   "name": "python",
   "nbconvert_exporter": "python",
   "pygments_lexer": "ipython3",
   "version": "3.7.6"
  }
 },
 "nbformat": 4,
 "nbformat_minor": 4
}
